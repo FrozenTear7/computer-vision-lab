{
 "cells": [
  {
   "cell_type": "code",
   "execution_count": 1,
   "metadata": {},
   "outputs": [],
   "source": [
    "import cv2, numpy as np\n",
    "import os\n",
    "import glob\n",
    "import plyfile"
   ]
  },
  {
   "cell_type": "code",
   "execution_count": 47,
   "metadata": {},
   "outputs": [],
   "source": [
    "camera_matrix =  np.array(\n",
    "[[640.,   0., 320.],\n",
    " [  0., 640., 240.],\n",
    " [  0.,   0.,   1.]])\n",
    "\n",
    "distortion_coeffs = np.zeros(4)"
   ]
  },
  {
   "cell_type": "markdown",
   "metadata": {},
   "source": [
    "# Rzutowanie chmury punktów"
   ]
  },
  {
   "cell_type": "code",
   "execution_count": null,
   "metadata": {},
   "outputs": [],
   "source": [
    "data = plyfile.PlyData.read('./drill.ply')['vertex']\n",
    "model_points = np.c_[data['x'], data['y'], data['z']]\n",
    "model_points = model_points[::100]\n",
    "model_points = model_points.astype(np.float32)\n",
    "\n",
    "imgs = cv2.imread('00005.png')"
   ]
  },
  {
   "cell_type": "code",
   "execution_count": 48,
   "metadata": {},
   "outputs": [],
   "source": [
    "rotation_vec = np.array([1.5719230120869594, -0.008669725486452024, 0.008394141727375536])\n",
    "translation_vec = np.array([-0.20275877848305968, -0.09921681582613295, 5.319904180506665])"
   ]
  },
  {
   "cell_type": "code",
   "execution_count": 49,
   "metadata": {},
   "outputs": [],
   "source": [
    "projected_points, _ = cv2.projectPoints(model_points, rotation_vec, translation_vec, camera_matrix, distortion_coeffs)"
   ]
  },
  {
   "cell_type": "code",
   "execution_count": 50,
   "metadata": {},
   "outputs": [],
   "source": [
    "projected_points = projected_points.astype(np.int)\n",
    "projected_points = projected_points.reshape((-1,2))\n",
    "for point in projected_points:\n",
    "    imgs[point[1],point[0]] = [255,255,255]"
   ]
  },
  {
   "cell_type": "code",
   "execution_count": 51,
   "metadata": {},
   "outputs": [
    {
     "data": {
      "text/plain": [
       "True"
      ]
     },
     "execution_count": 51,
     "metadata": {},
     "output_type": "execute_result"
    }
   ],
   "source": [
    "cv2.imwrite('result.png', imgs)"
   ]
  },
  {
   "cell_type": "markdown",
   "metadata": {},
   "source": [
    "# Rzutowanie prostopadłościanu"
   ]
  },
  {
   "cell_type": "code",
   "execution_count": 41,
   "metadata": {},
   "outputs": [],
   "source": [
    "cube_line_id = np.array([[0,1],[0,2],[0,4],[1,3],[1,5],[2,3],[2,6],[3,7],[4,5],[4,6],[5,7],[6,7]]) #id from vertices\n",
    "\n",
    "drill_cube_3d = np.array([[ 0.8291879 ,  0.22237803,  0.711129  ],\n",
    "    [ 0.8291879 ,  0.22237803, -0.693669  ],\n",
    "    [ 0.8291879 , -0.19283897,  0.711129  ],\n",
    "    [ 0.8291879 , -0.19283897, -0.693669  ],\n",
    "    [-0.52624696,  0.22237803,  0.711129  ],\n",
    "    [-0.52624696,  0.22237803, -0.693669  ],\n",
    "    [-0.52624696, -0.19283897,  0.711129  ],\n",
    "    [-0.52624696, -0.19283897, -0.693669  ]])  #max and min from model"
   ]
  },
  {
   "cell_type": "code",
   "execution_count": 43,
   "metadata": {},
   "outputs": [],
   "source": [
    "def draw_cube(cube_3d, rot_vec, tran_vec, img_path, save_name):\n",
    "    img = cv2.imread(img_path)\n",
    "\n",
    "    cube_drill_2d, jacobian = cv2.projectPoints(cube_3d, rot_vec, tran_vec, camera_matrix, distortion_coeffs)\n",
    "    cube_drill_2d = cube_drill_2d.astype(int)\n",
    "    for line_id in cube_line_id:\n",
    "        cv2.line(img,tuple(cube_drill_2d[line_id[0],0]),tuple(cube_drill_2d[line_id[1],0]), (255, 255, 255), 4)\n",
    "    cv2.imwrite(save_name, img)"
   ]
  },
  {
   "cell_type": "code",
   "execution_count": 44,
   "metadata": {},
   "outputs": [],
   "source": [
    "draw_cube(drill_cube_3d, rotation_vec, translation_vec, \"00005.png\", 'img_cube_0.png')"
   ]
  },
  {
   "cell_type": "code",
   "execution_count": null,
   "metadata": {},
   "outputs": [],
   "source": []
  },
  {
   "cell_type": "markdown",
   "metadata": {},
   "source": [
    "# Szkielet PSO"
   ]
  },
  {
   "cell_type": "code",
   "execution_count": null,
   "metadata": {},
   "outputs": [],
   "source": [
    "W = 0.729\n",
    "c1 = 2.05\n",
    "c2 = 2.05\n",
    "\n",
    "while iteration < n_iterations:\n",
    "    for i in range(n_particles):\n",
    "        fitness_cadidate = fitness_function()       \n",
    "\n",
    "        if(pbest_fitness_value[i] > fitness_cadidate):\n",
    "            pbest_fitness_value[i] = fitness_cadidate\n",
    "            pbest_position[i] = particle_position_vector[i]\n",
    "\n",
    "        if(gbest_fitness_value > fitness_cadidate):\n",
    "            gbest_fitness_value = fitness_cadidate\n",
    "            gbest_position = particle_position_vector[i]\n",
    "\n",
    "    if(abs(gbest_fitness_value - target) < target_error):\n",
    "        break\n",
    "\n",
    "    for i in range(n_particles):\n",
    "        new_velocity = (W*velocity_vector[i]) + (c1*random.random()) * (pbest_position[i] - particle_position_vector[i]) + (c2*random.random()) * (gbest_position-particle_position_vector[i])\n",
    "        new_position = new_velocity + particle_position_vector[i]\n",
    "        particle_position_vector[i] = new_position\n",
    "\n",
    "    iteration = iteration + 1"
   ]
  }
 ],
 "metadata": {
  "kernelspec": {
   "display_name": "Python 3",
   "language": "python",
   "name": "python3"
  },
  "language_info": {
   "codemirror_mode": {
    "name": "ipython",
    "version": 3
   },
   "file_extension": ".py",
   "mimetype": "text/x-python",
   "name": "python",
   "nbconvert_exporter": "python",
   "pygments_lexer": "ipython3",
   "version": "3.5.2"
  }
 },
 "nbformat": 4,
 "nbformat_minor": 2
}
