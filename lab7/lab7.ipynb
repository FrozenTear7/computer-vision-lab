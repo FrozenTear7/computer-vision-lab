{
 "metadata": {
  "language_info": {
   "codemirror_mode": {
    "name": "ipython",
    "version": 3
   },
   "file_extension": ".py",
   "mimetype": "text/x-python",
   "name": "python",
   "nbconvert_exporter": "python",
   "pygments_lexer": "ipython3",
   "version": "3.8.2-final"
  },
  "orig_nbformat": 2,
  "kernelspec": {
   "name": "python3",
   "display_name": "Python 3.8.2 64-bit ('venv')",
   "metadata": {
    "interpreter": {
     "hash": "30acb5f72f08c6ce4d01834556482d6706b9cb8a7328535855f6d36d2ab19974"
    }
   }
  }
 },
 "nbformat": 4,
 "nbformat_minor": 2,
 "cells": [
  {
   "source": [
    "# Widzenie maszynowe\n",
    "## Laboratorium 7 - Estymacja pozy obiektu\n",
    "*Autor: Paweł Mendroch* - [Github](https://github.com/FrozenTear7/computer-vision-lab/tree/master/lab7)"
   ],
   "cell_type": "markdown",
   "metadata": {}
  },
  {
   "source": [
    "## Setup"
   ],
   "cell_type": "markdown",
   "metadata": {}
  },
  {
   "cell_type": "code",
   "execution_count": 1,
   "metadata": {},
   "outputs": [],
   "source": [
    "import cv2, numpy as np\n",
    "import os\n",
    "import glob\n",
    "import plyfile\n",
    "import random"
   ]
  },
  {
   "cell_type": "code",
   "execution_count": 2,
   "metadata": {},
   "outputs": [],
   "source": [
    "camera_matrix =  np.array(\n",
    "    [\n",
    "        [640.,   0., 320.],\n",
    "        [  0., 640., 240.],\n",
    "        [  0.,   0.,   1.]\n",
    "    ]\n",
    ")\n",
    "\n",
    "distortion_coeffs = np.zeros(4)"
   ]
  },
  {
   "source": [
    "## Odczytanie modelu"
   ],
   "cell_type": "markdown",
   "metadata": {}
  },
  {
   "cell_type": "code",
   "execution_count": 3,
   "metadata": {},
   "outputs": [],
   "source": [
    "data = plyfile.PlyData.read(\"./drill.ply\")[\"vertex\"]\n",
    "model_points = np.c_[data[\"x\"], data[\"y\"], data[\"z\"]]\n",
    "model_points = model_points[::100]\n",
    "model_points = model_points.astype(np.float32)"
   ]
  },
  {
   "source": [
    "## Odczytanie parametrów wiertarki"
   ],
   "cell_type": "markdown",
   "metadata": {}
  },
  {
   "cell_type": "code",
   "execution_count": 4,
   "metadata": {},
   "outputs": [],
   "source": [
    "dataset_dir = \"./dataset/drill/\"\n",
    "angle = \"angle 0/\"\n",
    "dataset_subdir = \"scenario 1/rgba/\"\n",
    "drill_file = \"00005\"\n",
    "results_dir = \"./results/\"\n",
    "\n",
    "image = cv2.imread(f\"{dataset_dir}{angle}{dataset_subdir}{drill_file}.png\")\n",
    "mask = cv2.imread(f\"{dataset_dir}{angle}{dataset_subdir}{drill_file}-mask.png\")\n",
    "boundary = cv2.imread(f\"{dataset_dir}{angle}{dataset_subdir}{drill_file}-boundary.png\")\n",
    "attributes = open(f\"{dataset_dir}{angle}{dataset_subdir}{drill_file}-attributes.txt\")\n",
    "attributes = attributes.readlines()\n",
    "rotation = np.array(list(map(lambda x: x + np.random.uniform(-0.1, 0.1), np.array(attributes[5].split()[1:]).astype(np.float))))\n",
    "translation = np.array(list(map(lambda x: x + np.random.uniform(-0.1, 0.1), np.array(attributes[6].split()[1:]).astype(np.float))))"
   ]
  },
  {
   "source": [
    "projected_points, _ = cv2.projectPoints(model_points, rotation, translation, camera_matrix, distortion_coeffs)\n",
    "\n",
    "projected_points = projected_points.astype(np.int)\n",
    "projected_points = projected_points.reshape((-1, 2))\n",
    "for point in projected_points:\n",
    "    image[point[1], point[0]] = [255, 255, 255]"
   ],
   "cell_type": "code",
   "metadata": {},
   "execution_count": 5,
   "outputs": []
  },
  {
   "cell_type": "code",
   "execution_count": 6,
   "metadata": {},
   "outputs": [
    {
     "output_type": "execute_result",
     "data": {
      "text/plain": [
       "True"
      ]
     },
     "metadata": {},
     "execution_count": 6
    }
   ],
   "source": [
    "cv2.imwrite(f\"{drill_file}-result.png\", image)"
   ]
  },
  {
   "source": [
    "## Fitness"
   ],
   "cell_type": "markdown",
   "metadata": {}
  },
  {
   "cell_type": "code",
   "execution_count": 7,
   "metadata": {},
   "outputs": [],
   "source": [
    "segmentation_pixels = 0\n",
    "\n",
    "for i in range(len(mask)):\n",
    "    for j in range(len(mask[i])):\n",
    "        if mask[i, j].all() != 0:\n",
    "            segmentation_pixels += 1"
   ]
  },
  {
   "cell_type": "code",
   "execution_count": 8,
   "metadata": {},
   "outputs": [],
   "source": [
    "def fitness_function(particle):\n",
    "    particle_hits = 0\n",
    "\n",
    "    for point in particle:\n",
    "        if mask[int(point[1]), int(point[0])].all() == 0:\n",
    "            particle_hits += 1\n",
    "\n",
    "    return 0.5 * particle_hits / len(particle) + 0.5 * ((segmentation_pixels - particle_hits) / segmentation_pixels)\n",
    "    # return particle_hits / len(particle)"
   ]
  },
  {
   "source": [
    "## Szkielet PSO"
   ],
   "cell_type": "markdown",
   "metadata": {}
  },
  {
   "cell_type": "code",
   "execution_count": 10,
   "metadata": {},
   "outputs": [
    {
     "output_type": "stream",
     "name": "stdout",
     "text": [
      "Iteration: 0, fitness: 0.6175895447542832\n",
      "Iteration: 1, fitness: 0.5939768055253989\n",
      "Iteration: 2, fitness: 0.5901835944042929\n",
      "Iteration: 3, fitness: 0.5871964406464221\n",
      "Iteration: 4, fitness: 0.5871964406464221\n",
      "Iteration: 5, fitness: 0.5871964406464221\n",
      "Iteration: 6, fitness: 0.5871964406464221\n",
      "Iteration: 7, fitness: 0.5871964406464221\n",
      "Iteration: 8, fitness: 0.5871964406464221\n",
      "Iteration: 9, fitness: 0.5871964406464221\n",
      "Iteration: 10, fitness: 0.5871964406464221\n",
      "Iteration: 11, fitness: 0.5871964406464221\n",
      "Iteration: 12, fitness: 0.5871964406464221\n",
      "Iteration: 13, fitness: 0.5871964406464221\n",
      "Iteration: 14, fitness: 0.5871964406464221\n",
      "Iteration: 15, fitness: 0.5871964406464221\n",
      "Iteration: 16, fitness: 0.5871964406464221\n",
      "Iteration: 17, fitness: 0.5871964406464221\n",
      "Iteration: 18, fitness: 0.5871964406464221\n",
      "Iteration: 19, fitness: 0.5871964406464221\n",
      "Iteration: 20, fitness: 0.5871964406464221\n",
      "Iteration: 21, fitness: 0.5871964406464221\n",
      "Iteration: 22, fitness: 0.5871964406464221\n",
      "Iteration: 23, fitness: 0.5871964406464221\n",
      "Iteration: 24, fitness: 0.5871964406464221\n",
      "Iteration: 25, fitness: 0.5871964406464221\n",
      "Iteration: 26, fitness: 0.5871964406464221\n",
      "Iteration: 27, fitness: 0.5871964406464221\n",
      "Iteration: 28, fitness: 0.5871964406464221\n",
      "Iteration: 29, fitness: 0.5871964406464221\n"
     ]
    }
   ],
   "source": [
    "W = 0.729\n",
    "c1 = 2.05\n",
    "c2 = 2.05\n",
    "\n",
    "n_iterations = 30\n",
    "n_points = len(model_points)\n",
    "n_particles = 30\n",
    "# n_particles = 50\n",
    "\n",
    "particle_position_vector = np.full((n_particles, projected_points.shape[0], projected_points.shape[1]), projected_points)\n",
    "\n",
    "# Element losowości pozycji początkowej\n",
    "for i in range(n_particles):\n",
    "    for j in range(n_points):\n",
    "        particle_position_vector[i, j, 0] = (particle_position_vector[i, j, 0] * np.random.uniform(0.7, 1.3)) % 640\n",
    "        particle_position_vector[i, j, 1] = (particle_position_vector[i, j, 1] * np.random.uniform(0.7, 1.3)) % 480\n",
    "\n",
    "pbest_position = particle_position_vector\n",
    "gbest_position = None\n",
    "\n",
    "pbest_fitness_value = np.full(n_particles, np.inf)\n",
    "gbest_fitness_value = np.inf\n",
    "\n",
    "gbest_index = 0\n",
    "\n",
    "velocity_vector = np.zeros((n_particles, n_points, 2))\n",
    "fitnessChanged = False # Tylko w przypadku zmiany zapiszemy obraz\n",
    "\n",
    "iteration = 0\n",
    "while iteration < n_iterations:\n",
    "    for i in range(n_particles):\n",
    "        fitness_cadidate = fitness_function(particle_position_vector[i])\n",
    "\n",
    "        if(pbest_fitness_value[i] > fitness_cadidate): \n",
    "            pbest_fitness_value[i] = fitness_cadidate\n",
    "            pbest_position[i] = particle_position_vector[i]\n",
    "\n",
    "        if(gbest_fitness_value > fitness_cadidate):\n",
    "            gbest_fitness_value = fitness_cadidate\n",
    "            gbest_position = particle_position_vector[i]\n",
    "            gbest_index = i\n",
    "            fitnessChanged = True\n",
    "\n",
    "    for i in range(n_particles):\n",
    "        velocity_vector[i] = (W * velocity_vector[i]) + (c1 * random.random()) * (pbest_position[i] - particle_position_vector[i]) + (c2 * random.random()) * (gbest_position - particle_position_vector[i])\n",
    "\n",
    "        new_position = velocity_vector[i] + particle_position_vector[i]\n",
    "        new_position[:, 0] %= 640\n",
    "        new_position[:, 1] %= 480\n",
    "        particle_position_vector[i] = new_position\n",
    "\n",
    "    print(f\"Iteration: {iteration}, fitness: {gbest_fitness_value}\")\n",
    "\n",
    "    if fitnessChanged:\n",
    "        result_image = np.copy(image)\n",
    "    \n",
    "        for point in particle_position_vector[gbest_index]:\n",
    "            result_image[int(point[1]), int(point[0])] = [255, 255, 255]\n",
    "\n",
    "        cv2.imwrite(f\"{results_dir}{drill_file}_iter_{iteration}.png\", result_image)\n",
    "        fitnessChanged = False\n",
    "\n",
    "    iteration = iteration + 1"
   ]
  },
  {
   "source": [
    "## Wnioski\n",
    "\n",
    "Z nieznanego mi powodu algorytm się nie uczy, wykonują się 3-4 iteracje po których fitness staje w miejscu i brak widocznego progresu. Może to być związane z moim niekompletnym zrozumieniem składników funkcji fitness, a może losowości punktów startowych do uczenia.\n",
    "\n",
    "Przykład wyników dla kolejnych iteracji uczenia:\n",
    "\n",
    "![](./results/00005_iter_0.png)\n",
    "![](./results/00005_iter_1.png)\n",
    "![](./results/00005_iter_2.png)\n",
    "![](./results/00005_iter_3.png)"
   ],
   "cell_type": "markdown",
   "metadata": {}
  }
 ]
}