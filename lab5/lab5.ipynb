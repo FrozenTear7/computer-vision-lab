{
 "metadata": {
  "language_info": {
   "codemirror_mode": {
    "name": "ipython",
    "version": 3
   },
   "file_extension": ".py",
   "mimetype": "text/x-python",
   "name": "python",
   "nbconvert_exporter": "python",
   "pygments_lexer": "ipython3",
   "version": "3.8.3-final"
  },
  "orig_nbformat": 2,
  "kernelspec": {
   "name": "python3",
   "display_name": "Python 3"
  }
 },
 "nbformat": 4,
 "nbformat_minor": 2,
 "cells": [
  {
   "source": [
    "# Widzenie maszynowe\n",
    "## Laboratorium 5 - Estymacja pozy obiektu\n",
    "*Autor: Paweł Mendroch* - [Github](https://github.com/FrozenTear7/computer-vision-lab/tree/master/lab5)"
   ],
   "cell_type": "markdown",
   "metadata": {}
  },
  {
   "source": [
    "Rozszerzenia, które postanowiłem zaimplementować to modyfikacja danych w datasecie oraz częściowa migracja do tensorflow 2."
   ],
   "cell_type": "markdown",
   "metadata": {}
  },
  {
   "source": [
    "Nie przeprowadziłem pełnej konwersji kodu z tensorflow 1 do wersji 2 z keras, przerobiłem natomiast skrypt na wersję kompatybilną z nową biblioteką keras, bez potrzeby instalacji starszej wersji tensorflow i python, dzięki `tf.compat.v1`."
   ],
   "cell_type": "markdown",
   "metadata": {}
  },
  {
   "source": [
    "Dokonuję również augmentacji danych przy pomocy biblioteki `opencv`. Wykonuję 3 różne augmentacje:\n",
    "- pojaśnienie obrazu\n",
    "- przyciemnienie obrazu\n",
    "- wyostrzenie obrazu\n",
    "\n",
    "Nie wykonywałem innych prób, typu zmiana rozmiaru, obrót czy flipping, aby nie zepsuć danych związanych z położeniem.\n",
    "Skrypt z poniższym kodem znajduje się w `prepareImages.py`, a całą obróbkę uruchamiam przy pomocy skryptu bashowego `augment_data.sh`, w którym przechowuję zmienną trybu augmentacji."
   ],
   "cell_type": "markdown",
   "metadata": {}
  },
  {
   "source": [
    "```\n",
    "import os\n",
    "import sys\n",
    "import cv2\n",
    "import numpy as np\n",
    "import random\n",
    "\n",
    "\n",
    "def augment_image(input_img, mode):\n",
    "    print(mode)\n",
    "    input_img = cv2.imread(input_img)\n",
    "\n",
    "    if mode == 2:\n",
    "        bright = np.ones(input_img.shape, dtype=\"uint8\") * 70\n",
    "\n",
    "        return cv2.subtract(input_img, bright)\n",
    "    elif mode == 3:\n",
    "        sharpening = np.array([[-1, -1, -1, [-1, 10, -1], [-1, -1, -1]]])\n",
    "\n",
    "        return cv2.filter2D(image, -1, sharpening)\n",
    "    else:\n",
    "        bright = np.ones(input_img.shape, dtype=\"uint8\") * 70\n",
    "\n",
    "        return cv2.add(input_img, bright)\n",
    "\n",
    "\n",
    "if __name__ == \"__main__\":\n",
    "    in_dir = \"./dataset/\" + sys.argv[1]\n",
    "    out_dir = \"./dataset_new/\" + sys.argv[1]\n",
    "    augment_mode = sys.argv[2]\n",
    "\n",
    "    for data_inner_dir in os.listdir(in_dir):\n",
    "        try:\n",
    "            for filename in os.listdir(os.path.join(in_dir, data_inner_dir)):\n",
    "                if str(filename).endswith(\".png\"):\n",
    "                    print(filename)\n",
    "                    in_file = os.path.join(\n",
    "                        os.path.join(in_dir, data_inner_dir), filename\n",
    "                    )\n",
    "                    out_file = os.path.join(\n",
    "                        os.path.join(out_dir, data_inner_dir), filename\n",
    "                    )\n",
    "\n",
    "                    try:\n",
    "                        os.remove(out_file)\n",
    "                    except FileNotFoundError:\n",
    "                        pass\n",
    "\n",
    "                    image = augment_image(in_file, augment_mode)\n",
    "                    cv2.imwrite(out_file, image)\n",
    "        except NotADirectoryError:\n",
    "            pass\n",
    "```"
   ],
   "cell_type": "markdown",
   "metadata": {}
  },
  {
   "source": [
    "Do testów uruchamiałem testy na 3 epokach, wynik dla oryginalnego skryptu wynosi: `accuracy - 0.4634`.\n",
    "\n",
    "Data augmentation: \n",
    "- mode 1: `accuracy - 0.5219`.\n",
    "- mode 2: `accuracy - 0.4780`.\n",
    "- mode 3: `accuracy - 0.4731`.\n",
    "\n",
    "Jak widać najlepiej wypadło rozjaśnienie obrazu, a wszystkie augmentacje dały lepsze wyniki niż oryginalne obrazy, lecz faktyczny test poniżej przeprowadzam dla 30 epok.\n",
    "\n",
    "Original: `accuracy - 0.7756`\n",
    "\n",
    "![Accuracy](./results/accuracy_history1.png)\n",
    "![Loss](./results/loss_history1.png)\n",
    "![Confusion](./results/Confusion_Matrix1.png)\n",
    "![Pca](./results/pca1.png)\n",
    "\n",
    "Data augmentation wybrałem wersję pierwszą, która dała dla mniejszej liczby epok najlepsze wyniki:\n",
    "\n",
    "Brigther - mode 1: `accuracy - 0.7121`\n",
    "\n",
    "Wyniki niestety mimo lepszych wyników początkowych dla małej ilości epok nie przełożyły się na dobre wyniki dla faktycznych testów. Zauważalny spadek około 6%.\n",
    "\n",
    "![Accuracy](./results/accuracy_history1.png)\n",
    "![Loss](./results/loss_history1.png)\n",
    "![Confusion](./results/Confusion_Matrix1.png)\n",
    "![Pca](./results/pca1.png)"
   ],
   "cell_type": "markdown",
   "metadata": {}
  }
 ]
}