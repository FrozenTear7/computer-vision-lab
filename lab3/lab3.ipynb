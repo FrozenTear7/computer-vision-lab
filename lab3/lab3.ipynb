{
 "metadata": {
  "language_info": {
   "codemirror_mode": {
    "name": "ipython",
    "version": 3
   },
   "file_extension": ".py",
   "mimetype": "text/x-python",
   "name": "python",
   "nbconvert_exporter": "python",
   "pygments_lexer": "ipython3",
   "version": 3
  },
  "orig_nbformat": 2
 },
 "nbformat": 4,
 "nbformat_minor": 2,
 "cells": [
  {
   "source": [
    "# Widzenie maszynowe\n",
    "## Laboratorium 3 - Image skeletonization\n",
    "*Autor: Paweł Mendroch* - [Github](https://github.com/FrozenTear7/computer-vision-lab/tree/master/lab3)"
   ],
   "cell_type": "markdown",
   "metadata": {}
  },
  {
   "source": [
    "Wykorzystując kod ze strony z [tutorialem](https://scikit-image.org/docs/dev/auto_examples/edges/plot_skeleton.html), generuję szkielety dwoma metodami dla każdego obrazu z folderu `input`.\n",
    "\n",
    "Kod uruchomieniowy jest zawarty w `run.sh`, iteruję po tablicy ścieżek do plików do przetworzenia, które zapisywane są w folderze `output`."
   ],
   "cell_type": "markdown",
   "metadata": {}
  },
  {
   "cell_type": "code",
   "execution_count": null,
   "metadata": {},
   "outputs": [],
   "source": []
  }
 ]
}