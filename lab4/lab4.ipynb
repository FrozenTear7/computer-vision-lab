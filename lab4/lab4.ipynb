{
 "metadata": {
  "language_info": {
   "codemirror_mode": {
    "name": "ipython",
    "version": 3
   },
   "file_extension": ".py",
   "mimetype": "text/x-python",
   "name": "python",
   "nbconvert_exporter": "python",
   "pygments_lexer": "ipython3",
   "version": "3.5.6-final"
  },
  "orig_nbformat": 2,
  "kernelspec": {
   "name": "Python 3.5.6 64-bit",
   "display_name": "Python 3.5.6 64-bit",
   "metadata": {
    "interpreter": {
     "hash": "9e12a6354b1e6324265ea93efbbe5e2a15bca608fa934c88fb5da6d5ec866c07"
    }
   }
  }
 },
 "nbformat": 4,
 "nbformat_minor": 2,
 "cells": [
  {
   "source": [
    "# Widzenie maszynowe\n",
    "## Laboratorium 4 - Segmentacja\n",
    "*Autor: Paweł Mendroch* - [Github](https://github.com/FrozenTear7/computer-vision-lab/tree/master/lab4)"
   ],
   "cell_type": "markdown",
   "metadata": {}
  },
  {
   "source": [
    "Wykorzystując kod ze z [repozytorium](https://github.com/zhixuhao/unet), dokonuję segmentacji na przykładowych obrazach syntetycznych ze zbioru `hiragana`.\n",
    "\n",
    "Poniżej przedstawiam kod wykorzystany do treningu i testów."
   ],
   "cell_type": "markdown",
   "metadata": {}
  },
  {
   "source": [
    "Przy użyciu biblioteki OpenCV dla języka Python, generuję maski dla obrazów syntetycznych znajdujących się w `/train/image` i zapisuję je do folderu `/train/label` trzymając się konwencji ustalonej przez oryginalnego autora.\n"
   ],
   "cell_type": "markdown",
   "metadata": {}
  },
  {
   "cell_type": "code",
   "execution_count": 1,
   "metadata": {},
   "outputs": [
    {
     "output_type": "stream",
     "name": "stderr",
     "text": [
      "Using TensorFlow backend.\n"
     ]
    }
   ],
   "source": [
    "from model import *\n",
    "from data import *\n",
    "import os"
   ]
  },
  {
   "source": [
    "Poniżej wykonuję trening sieci przy pomocy sieci Unet, jak podane w `trainUnet.ipynb`."
   ],
   "cell_type": "markdown",
   "metadata": {}
  },
  {
   "cell_type": "code",
   "execution_count": 2,
   "metadata": {},
   "outputs": [
    {
     "output_type": "stream",
     "name": "stdout",
     "text": [
      "Epoch 1/1\nFound 116 images belonging to 1 classes.\nFound 116 images belonging to 1 classes.\n"
     ]
    }
   ],
   "source": [
    "data_gen_args = dict(rotation_range=0.2,\n",
    "                    width_shift_range=0.05,\n",
    "                    height_shift_range=0.05,\n",
    "                    shear_range=0.05,\n",
    "                    zoom_range=0.05,\n",
    "                    horizontal_flip=True,\n",
    "                    fill_mode='nearest')\n",
    "myGene = trainGenerator(2, 'data/hiragana/train', 'image', 'label', data_gen_args, save_to_dir = None)\n",
    "\n",
    "model = unet()\n",
    "model_checkpoint = ModelCheckpoint('unet_hiragana.hdf5', monitor = 'loss', verbose = 1, save_best_only = True)\n",
    "model.fit_generator(myGene, steps_per_epoch = 300, epochs = 1, callbacks = [model_checkpoint])"
   ]
  },
  {
   "cell_type": "code",
   "execution_count": null,
   "metadata": {},
   "outputs": [],
   "source": [
    "testGene = testGenerator(\"data/hiragana/test\")\n",
    "model = unet()\n",
    "model.load_weights(\"unet_hiragana.hdf5\")\n",
    "results = model.predict_generator(testGene, 30, verbose = 1)\n",
    "saveResult(\"data/hiragana/test\", results)"
   ]
  }
 ]
}