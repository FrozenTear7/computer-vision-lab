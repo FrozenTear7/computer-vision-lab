{
 "metadata": {
  "language_info": {
   "codemirror_mode": {
    "name": "ipython",
    "version": 3
   },
   "file_extension": ".py",
   "mimetype": "text/x-python",
   "name": "python",
   "nbconvert_exporter": "python",
   "pygments_lexer": "ipython3",
   "version": "3.8.3-final"
  },
  "orig_nbformat": 2,
  "kernelspec": {
   "name": "Python 3.8.3 64-bit ('venv')",
   "display_name": "Python 3.8.3 64-bit ('venv')",
   "metadata": {
    "interpreter": {
     "hash": "400f65aabab4d79e4e047f53f1145f990456603e9af3ce027515df1969b96ebf"
    }
   }
  }
 },
 "nbformat": 4,
 "nbformat_minor": 2,
 "cells": [
  {
   "source": [
    "# Widzenie maszynowe\n",
    "## Laboratorium 2 - Neural Style Transfer dla potrzeb augmentacji obrazów generowanych syntetycznie\n",
    "*Autor: Paweł Mendroch* - [Github](https://github.com/FrozenTear7/computer-vision-lab/tree/master/lab2)"
   ],
   "cell_type": "markdown",
   "metadata": {}
  },
  {
   "source": [
    "Z powodu problemów z uruchomieniem środowiska lokalnie, skrypty uruchamiam z poziomu notebooka załączonego do repozytorium na platformie Google Colab.\n",
    "Lokalnie nie udało się doprowadzić bibliotek do stanu działania, zarówno z requirements z repozytorium, z Lab_02.zip oraz setupu do poprzednich labów.\n",
    "\n",
    "### Wykonane testy:\n",
    "- [Test 1](#test1) - INetwork, content weight: `0.025`, style weight: `1.0`, preserve_color: `false`\n",
    "- [Test 2](#test2) - Network, content weight: `0.025`, style weight: `1.0`, preserve_color: `false`\n",
    "- [Test 3](#test3) - INetwork, content weight: `1.0`, style weight: `1.0`, preserve_color: `true`\n",
    "- [Test 4](#test4) - INetwork, content weight: `1.0`, style weight: `1.0`, preserve_color: `false`\n",
    "\n",
    "### Obrazy testowe\n",
    "\n",
    "Seria wybranych przeze mnie 5 obrazów to `001_Camera` zakres od `004_0000-0004`.\n",
    "\n",
    "![Image 1](./test_images/01_a.001_Camera.004_0000.png \"Image 1\")\n",
    "![Image 2](./test_images/01_a.001_Camera.004_0001.png \"Image 2\")\n",
    "![Image 3](./test_images/01_a.001_Camera.004_0002.png \"Image 3\")\n",
    "![Image 4](./test_images/01_a.001_Camera.004_0003.png \"Image 4\")\n",
    "![Image 5](./test_images/01_a.001_Camera.004_0004.png \"Image 5\")\n",
    "\n"
   ],
   "cell_type": "markdown",
   "metadata": {}
  },
  {
   "source": [
    "## Test 1 - INetwork, content weight: `0.025`, style weight: `1.0`, preserve_color: `false` <a class=\"anchor\" id=\"test1\"></a>\n",
    "\n",
    "Pierwszy test wykonałem na parametrach domyślnych, z ulepszonym transferem stylu przy pomocy `INetwork`, z domyślnymi wagami `content` oraz `style`.\n",
    "\n",
    "![Result 1](./results/ex1/result1.png \"Result 1\")\n",
    "![Result 2](./results/ex1/result2.png \"Result 2\")\n",
    "![Result 3](./results/ex1/result3.png \"Result 3\")\n",
    "![Result 4](./results/ex1/result4.png \"Result 4\")\n",
    "![Result 5](./results/ex1/result5.png \"Result 5\")"
   ],
   "cell_type": "markdown",
   "metadata": {}
  },
  {
   "source": [
    "## Test 2 - Network, content weight: `1.0`, style weight: `1.0`, preserve_color: `true` <a class=\"anchor\" id=\"test2\"></a>\n",
    "\n",
    "Drugi test natomiast z identycznymi parametrami wykonałem na klasycznym transferze stylu przy pomocy Network.\n",
    "Mimo ze INetwork jest ulepszoną wersją, na naszych przykładach ciężko doszukać się widocznych różnic w rezultatach.\n",
    "\n",
    "![Result 1](./results/ex2/result1.png \"Result 1\")\n",
    "![Result 2](./results/ex2/result2.png \"Result 2\")\n",
    "![Result 3](./results/ex2/result3.png \"Result 3\")\n",
    "![Result 4](./results/ex2/result4.png \"Result 4\")\n",
    "![Result 5](./results/ex2/result5.png \"Result 5\")"
   ],
   "cell_type": "markdown",
   "metadata": {}
  },
  {
   "source": [
    "## Test 3 - INetwork, content weight: `1.0`, style weight: `1.0`, preserve_color: `true` <a class=\"anchor\" id=\"test3\"></a>\n",
    "\n",
    "Problem natomiast zaczął się przy teście trzecim z wykorzystaniem parametru `preserve_color`, który powoduje widoczne poniżej błędy wizualne.\n",
    "Jest to spowodowane błędami związanymi z biblioteką `scipy`, lecz nie udało mi się doprowadzić tego przykładu do działania.\n",
    "\n",
    "![Result bad](./results/ex3/resultBad.png \"Result bad\")"
   ],
   "cell_type": "markdown",
   "metadata": {}
  },
  {
   "source": [
    "## Test 4 - INetwork, content weight: `1.0`, style weight: `1.0`, preserve_color: `false` <a class=\"anchor\" id=\"test4\"></a>\n",
    "\n",
    "Porównując wersję z testu 4 do testu 1, stwierdzam, że stosunek 1.0 do 1.0 `content` oraz `style` daje bardziej realistyczne wyniki niż, przenoszenie głównie stylu.\n",
    "\n",
    "![Result 1](./results/ex4/result1.png \"Result 1\")\n",
    "![Result 2](./results/ex4/result2.png \"Result 2\")\n",
    "![Result 3](./results/ex4/result3.png \"Result 3\")\n",
    "![Result 4](./results/ex4/result4.png \"Result 4\")\n",
    "![Result 5](./results/ex4/result5.png \"Result 5\")"
   ],
   "cell_type": "markdown",
   "metadata": {}
  },
  {
   "source": [
    "Niestety nie udało mi się przeprowadzić transferu kolorów, co jest ponownie związane z błędami `scipy`. Nowsze wersje nie posiadają potrzebnych funkcji, a starsze wersje nie udało mi się poprawnie zainstalować i uruchomić."
   ],
   "cell_type": "markdown",
   "metadata": {}
  }
 ]
}
